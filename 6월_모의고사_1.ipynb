{
  "nbformat": 4,
  "nbformat_minor": 0,
  "metadata": {
    "colab": {
      "name": "6월 모의고사 1.ipynb",
      "provenance": [],
      "collapsed_sections": [],
      "authorship_tag": "ABX9TyNm0o4eWGOfiarwoRcnPrx0",
      "include_colab_link": true
    },
    "kernelspec": {
      "name": "python3",
      "display_name": "Python 3"
    },
    "language_info": {
      "name": "python"
    }
  },
  "cells": [
    {
      "cell_type": "markdown",
      "metadata": {
        "id": "view-in-github",
        "colab_type": "text"
      },
      "source": [
        "<a href=\"https://colab.research.google.com/github/zombe962/2021_math_python/blob/main/6%EC%9B%94_%EB%AA%A8%EC%9D%98%EA%B3%A0%EC%82%AC_1.ipynb\" target=\"_parent\"><img src=\"https://colab.research.google.com/assets/colab-badge.svg\" alt=\"Open In Colab\"/></a>"
      ]
    },
    {
      "cell_type": "markdown",
      "metadata": {
        "id": "PpLIX-GGZ6Nr"
      },
      "source": [
        "# 2021 학년도 대학수학능력시험 6월 모의평가 문제지 - 수학 영역(가형)\n",
        "\n",
        "한 개의 주사위를 두 번 던져서 나오는 눈의 수를 차례로 \n",
        "a, b라 할 때, | a - 3 | + | b - 3 | = 2 이거나 a = b일 확률은?"
      ]
    },
    {
      "cell_type": "code",
      "metadata": {
        "colab": {
          "base_uri": "https://localhost:8080/"
        },
        "id": "WTYWsxMYr5gk",
        "outputId": "57f992d5-3941-4d11-adea-756cb7ceb660"
      },
      "source": [
        "from itertools import product as pr\n",
        "import fractions\n",
        "\n",
        "A = list(pr(range(1,7), repeat = 2))\n",
        "cnt = 0\n",
        "\n",
        "print(A)\n",
        "'''\n",
        "B = []\n",
        "for i in A:\n",
        "    if abs(i[0]-3) + abs(i[1]-3) == 2 or i[0] == i[1]:\n",
        "        B.append(i)\n",
        "'''\n",
        "B = [i for i in A if abs(i[0]-3) + abs(i[1]-3) == 2 or i[0] == i[1]]\n",
        "print(B)\n",
        "print(len(B))\n",
        "print(fractions.Fraction(len(B),len(A)))"
      ],
      "execution_count": null,
      "outputs": [
        {
          "output_type": "stream",
          "text": [
            "[(1, 1), (1, 2), (1, 3), (1, 4), (1, 5), (1, 6), (2, 1), (2, 2), (2, 3), (2, 4), (2, 5), (2, 6), (3, 1), (3, 2), (3, 3), (3, 4), (3, 5), (3, 6), (4, 1), (4, 2), (4, 3), (4, 4), (4, 5), (4, 6), (5, 1), (5, 2), (5, 3), (5, 4), (5, 5), (5, 6), (6, 1), (6, 2), (6, 3), (6, 4), (6, 5), (6, 6)]\n",
            "[(1, 1), (1, 3), (2, 2), (2, 4), (3, 1), (3, 3), (3, 5), (4, 2), (4, 4), (5, 3), (5, 5), (6, 6)]\n",
            "12\n",
            "1/3\n"
          ],
          "name": "stdout"
        }
      ]
    },
    {
      "cell_type": "markdown",
      "metadata": {
        "id": "cjhPDkeGu3_V"
      },
      "source": [
        "# or 과 and\n",
        "\n",
        "조건 or 조건 or 조건 => any(iterator) 또는 any((조건, 조건, 조건))\n",
        "\n",
        "조건 and 조건 and 조건 => all(interator) 또는 all((조건, 조건, 조건))"
      ]
    },
    {
      "cell_type": "markdown",
      "metadata": {
        "id": "AfVzp0J8vVHV"
      },
      "source": [
        "# Fraction(분수)\n",
        "from fractions import Fraction as F\n",
        "\n",
        "print(F(1,3)) -> 1/3\n",
        "\n",
        "즉 fractions.Fraction(분자, 분모)"
      ]
    }
  ]
}