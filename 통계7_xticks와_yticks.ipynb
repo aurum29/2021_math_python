{
  "nbformat": 4,
  "nbformat_minor": 0,
  "metadata": {
    "colab": {
      "name": "통계7 xticks와 yticks.ipynb",
      "provenance": [],
      "collapsed_sections": [],
      "authorship_tag": "ABX9TyOFyhfKbjeG23yPhaUQ7RSa",
      "include_colab_link": true
    },
    "kernelspec": {
      "name": "python3",
      "display_name": "Python 3"
    },
    "language_info": {
      "name": "python"
    }
  },
  "cells": [
    {
      "cell_type": "markdown",
      "metadata": {
        "id": "view-in-github",
        "colab_type": "text"
      },
      "source": [
        "<a href=\"https://colab.research.google.com/github/zombe962/2021_math_python/blob/main/%ED%86%B5%EA%B3%847_xticks%EC%99%80_yticks.ipynb\" target=\"_parent\"><img src=\"https://colab.research.google.com/assets/colab-badge.svg\" alt=\"Open In Colab\"/></a>"
      ]
    },
    {
      "cell_type": "markdown",
      "metadata": {
        "id": "--rn6l_iCY-y"
      },
      "source": [
        "* xticks와 yticks 안에 iterable 형 입력 및 fontweight\n",
        "* plt.legend() # 범례"
      ]
    },
    {
      "cell_type": "code",
      "metadata": {
        "colab": {
          "base_uri": "https://localhost:8080/",
          "height": 265
        },
        "id": "PrV6mmXb6eqt",
        "outputId": "835827f3-7870-4d5e-9375-3bd2fe8160a0"
      },
      "source": [
        "from matplotlib import pyplot as plt\n",
        "import numpy as np\n",
        "import pandas as pd\n",
        "\n",
        "weight = 22, 24, 26, 30, 32, 40, 35, 45, 20, 29, 34, 36, 36, 38, 39, 48, 43, 37, 33, 31, 29, 39, 26, 29\n",
        "bum=np.arange(20,55,5)\n",
        "\n",
        "wei,bum = np.histogram(weight, bum) # wei는 도수\n",
        "bum2 = bum[:-1] + 2.5  # x 좌표\n",
        "# print(bum2)\n",
        "nuwei = []\n",
        "a = 0\n",
        "\n",
        "for i in wei:\n",
        "    a += i\n",
        "    nuwei.append(a)\n",
        "plt.plot(bum2, nuwei, label='new')\n",
        "# 상대도수 wei / len(weight)\n",
        "plt.xticks(bum2,fontweight='bold')  # iterable 형이 들어가면 x 좌표로 들어감\n",
        "plt.yticks(nuwei,fontweight='light')\n",
        "plt.legend(fontsize = '20') # 범례\n",
        "plt.grid()\n",
        "plt.show()"
      ],
      "execution_count": null,
      "outputs": [
        {
          "output_type": "display_data",
          "data": {
            "image/png": "[encoded data removed]",
            "text/plain": [
              "<Figure size 432x288 with 1 Axes>"
            ]
          },
          "metadata": {
            "tags": [],
            "needs_background": "light"
          }
        }
      ]
    }
  ]
}