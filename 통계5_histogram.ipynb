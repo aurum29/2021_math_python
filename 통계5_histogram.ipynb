{
  "nbformat": 4,
  "nbformat_minor": 0,
  "metadata": {
    "colab": {
      "name": "통계5 histogram.ipynb",
      "provenance": [],
      "authorship_tag": "ABX9TyNq+WgNY5ustQI2XJv1JwDP",
      "include_colab_link": true
    },
    "kernelspec": {
      "name": "python3",
      "display_name": "Python 3"
    },
    "language_info": {
      "name": "python"
    }
  },
  "cells": [
    {
      "cell_type": "markdown",
      "metadata": {
        "id": "view-in-github",
        "colab_type": "text"
      },
      "source": [
        "<a href=\"https://colab.research.google.com/github/zombe962/2021_math_python/blob/main/%ED%86%B5%EA%B3%845_histogram.ipynb\" target=\"_parent\"><img src=\"https://colab.research.google.com/assets/colab-badge.svg\" alt=\"Open In Colab\"/></a>"
      ]
    },
    {
      "cell_type": "code",
      "metadata": {
        "colab": {
          "base_uri": "https://localhost:8080/",
          "height": 318
        },
        "id": "zz0yPpfZ0_A-",
        "outputId": "71ee8fbc-57c1-440f-f712-8c3bdc0291da"
      },
      "source": [
        "from matplotlib import pyplot as plt\n",
        "import numpy as np\n",
        "import pandas as pd\n",
        "\n",
        "weight = 22, 24, 26, 30, 32, 40, 35, 45, 20, 29, 34, 36, 36, 38, 39, 48, 43, 37, 33, 31, 29, 39, 26, 29\n",
        "bum=np.arange(20,55,5)\n",
        "plt.hist(weight,bum,rwidth=0.7,color=\"white\",edgecolor=\"black\",alpha=0.5)\n",
        "#plt.grid() # 눈금자\n",
        "plt.title('jiwooo weight', fontsize = 15, color=\"blue\")\n",
        "plt.xlabel('one weight (kg)',fontsize = 10)\n",
        "plt.xticks(fontsize = 12, color = \"red\")\n",
        "plt.ylabel('number', fontsize = 10)\n",
        "plt.yticks(fontsize = 9)\n",
        "plt.ylim(0,9) # 범위"
      ],
      "execution_count": 24,
      "outputs": [
        {
          "output_type": "execute_result",
          "data": {
            "text/plain": [
              "(0.0, 9.0)"
            ]
          },
          "metadata": {
            "tags": []
          },
          "execution_count": 24
        },
        {
          "output_type": "display_data",
          "data": {
            "image/png": "[encoded data removed]",
            "text/plain": [
              "<Figure size 432x288 with 1 Axes>"
            ]
          },
          "metadata": {
            "tags": [],
            "needs_background": "light"
          }
        }
      ]
    },
    {
      "cell_type": "code",
      "metadata": {
        "id": "wJ9p-2as28dd"
      },
      "source": [
        ""
      ],
      "execution_count": null,
      "outputs": []
    }
  ]
}