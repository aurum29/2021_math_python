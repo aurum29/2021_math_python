{
  "nbformat": 4,
  "nbformat_minor": 0,
  "metadata": {
    "colab": {
      "name": "완전수 출력(03/10).ipynb",
      "provenance": [],
      "collapsed_sections": [],
      "authorship_tag": "ABX9TyP0HeQwhwPK6Fd7+I+5monL",
      "include_colab_link": true
    },
    "kernelspec": {
      "name": "python3",
      "display_name": "Python 3"
    }
  },
  "cells": [
    {
      "cell_type": "markdown",
      "metadata": {
        "id": "view-in-github",
        "colab_type": "text"
      },
      "source": [
        "<a href=\"https://colab.research.google.com/github/zombe962/2021_math_python/blob/main/%EC%99%84%EC%A0%84%EC%88%98_%EC%B6%9C%EB%A0%A5(03_10).ipynb\" target=\"_parent\"><img src=\"https://colab.research.google.com/assets/colab-badge.svg\" alt=\"Open In Colab\"/></a>"
      ]
    },
    {
      "cell_type": "markdown",
      "metadata": {
        "id": "ibx-MXzsb1YI"
      },
      "source": [
        "# 순열과 조합\r\n",
        "\r\n",
        "import itertools as it\r\n",
        "\r\n",
        "1. 순열 permutations\r\n",
        "\r\n",
        "2. 중복순열 product\r\n",
        "\r\n",
        "3. 조합 combinations\r\n",
        "\r\n",
        "4. 중복조합 combinations_with_replacement"
      ]
    },
    {
      "cell_type": "markdown",
      "metadata": {
        "id": "xkrpfrUwczAX"
      },
      "source": [
        "# 반복문\r\n",
        "\r\n",
        "```\r\n",
        "for i in range(1,6):\r\n",
        "  print(i)\r\n",
        "```\r\n",
        "\r\n",
        "range(1,6)은 1<= i < 6을 의미"
      ]
    },
    {
      "cell_type": "code",
      "metadata": {
        "colab": {
          "base_uri": "https://localhost:8080/"
        },
        "id": "76lTYARddYA-",
        "outputId": "9065c50d-3b99-4dac-d368-6e632dc36a02"
      },
      "source": [
        "for i in range(1, 6):\r\n",
        "    print(i)"
      ],
      "execution_count": null,
      "outputs": [
        {
          "output_type": "stream",
          "text": [
            "1\n",
            "2\n",
            "3\n",
            "4\n",
            "5\n"
          ],
          "name": "stdout"
        }
      ]
    },
    {
      "cell_type": "code",
      "metadata": {
        "colab": {
          "base_uri": "https://localhost:8080/"
        },
        "id": "6uaE5mxbeQ-V",
        "outputId": "501c13c0-d4c5-48b5-c14a-c4d245995209"
      },
      "source": [
        "# 6의 약수 출력하기\r\n",
        "for i in range(1,7):\r\n",
        "    if 6%i == 0:\r\n",
        "        print(i)"
      ],
      "execution_count": null,
      "outputs": [
        {
          "output_type": "stream",
          "text": [
            "1\n",
            "2\n",
            "3\n",
            "6\n"
          ],
          "name": "stdout"
        }
      ]
    },
    {
      "cell_type": "code",
      "metadata": {
        "colab": {
          "base_uri": "https://localhost:8080/"
        },
        "id": "BIP5NDd9fgnU",
        "outputId": "b7ee713d-a78e-4245-819c-5ab0b4eabdc9"
      },
      "source": [
        "# 6의 약수 출력하기\r\n",
        "A = []\r\n",
        "for i in range(1,7):\r\n",
        "    if 6%i == 0:\r\n",
        "        A.append(i)     # .append() : list에 원소를 추가\r\n",
        "print(sum(A))   # sum(list) : 리스트의 합"
      ],
      "execution_count": null,
      "outputs": [
        {
          "output_type": "stream",
          "text": [
            "12\n"
          ],
          "name": "stdout"
        }
      ]
    },
    {
      "cell_type": "code",
      "metadata": {
        "colab": {
          "base_uri": "https://localhost:8080/"
        },
        "id": "UD5U4D-igND-",
        "outputId": "34735b2f-fdb6-4369-efb9-84e297bfdcbe"
      },
      "source": [
        "# 6의 약수를 제외한 리스트 출력\r\n",
        "A = list(range(1,7))\r\n",
        "for i in range(1,7):\r\n",
        "    if 6%i == 0:\r\n",
        "        A.remove(i)     # .remove() : list에 원소 제거\r\n",
        "print(A)"
      ],
      "execution_count": null,
      "outputs": [
        {
          "output_type": "stream",
          "text": [
            "[4, 5]\n"
          ],
          "name": "stdout"
        }
      ]
    },
    {
      "cell_type": "code",
      "metadata": {
        "colab": {
          "base_uri": "https://localhost:8080/"
        },
        "id": "yC_R-Jf1gmzy",
        "outputId": "7014a14f-8af5-4670-e86e-cec04da98b34"
      },
      "source": [
        "def f(x):\r\n",
        "    A = []\r\n",
        "    for i in range(1,x):\r\n",
        "        if x%i == 0:\r\n",
        "            A.append(i)\r\n",
        "    return A\r\n",
        "\r\n",
        "print(f(100))"
      ],
      "execution_count": null,
      "outputs": [
        {
          "output_type": "stream",
          "text": [
            "[1, 2, 4, 5, 10, 20, 25, 50]\n"
          ],
          "name": "stdout"
        }
      ]
    }
  ]
}