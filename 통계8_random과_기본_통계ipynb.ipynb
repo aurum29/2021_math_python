{
  "nbformat": 4,
  "nbformat_minor": 0,
  "metadata": {
    "colab": {
      "name": "통계8 random과 기본 통계ipynb",
      "provenance": [],
      "authorship_tag": "ABX9TyN7N8vfqbyNOVDEHXYKY1ph",
      "include_colab_link": true
    },
    "kernelspec": {
      "name": "python3",
      "display_name": "Python 3"
    },
    "language_info": {
      "name": "python"
    }
  },
  "cells": [
    {
      "cell_type": "markdown",
      "metadata": {
        "id": "view-in-github",
        "colab_type": "text"
      },
      "source": [
        "<a href=\"https://colab.research.google.com/github/zombe962/2021_math_python/blob/main/%ED%86%B5%EA%B3%848_random%EA%B3%BC_%EA%B8%B0%EB%B3%B8_%ED%86%B5%EA%B3%84ipynb.ipynb\" target=\"_parent\"><img src=\"https://colab.research.google.com/assets/colab-badge.svg\" alt=\"Open In Colab\"/></a>"
      ]
    },
    {
      "cell_type": "code",
      "metadata": {
        "id": "xE4h89kbuktS",
        "colab": {
          "base_uri": "https://localhost:8080/"
        },
        "outputId": "697bb722-60fc-4b61-907c-19a69ac129a5"
      },
      "source": [
        "np.random.rand(100) # 0과 1사이의 실수를 100개 뽑음"
      ],
      "execution_count": null,
      "outputs": [
        {
          "output_type": "execute_result",
          "data": {
            "text/plain": [
              "array([0.96175125, 0.50864294, 0.36574377, 0.79604006, 0.37625487,\n",
              "       0.99570164, 0.35251101, 0.8344261 , 0.91014852, 0.28276317,\n",
              "       0.91178092, 0.61621832, 0.02225602, 0.2507541 , 0.56011457,\n",
              "       0.69217611, 0.71346291, 0.66574443, 0.31790153, 0.37153931,\n",
              "       0.57585395, 0.0160848 , 0.91555557, 0.50053495, 0.53452195,\n",
              "       0.54526373, 0.78051944, 0.83193654, 0.55418511, 0.93656903,\n",
              "       0.95184333, 0.22127934, 0.7992903 , 0.977107  , 0.72408263,\n",
              "       0.99187354, 0.09599346, 0.72782461, 0.60674779, 0.30418336,\n",
              "       0.67773244, 0.09207868, 0.05902895, 0.27415266, 0.9453777 ,\n",
              "       0.60942613, 0.16876609, 0.11314529, 0.47215076, 0.74633774,\n",
              "       0.65077819, 0.49376546, 0.30224025, 0.78922928, 0.43528518,\n",
              "       0.07667152, 0.79921235, 0.62234633, 0.44107544, 0.30838694,\n",
              "       0.25169803, 0.91961088, 0.08977691, 0.8713078 , 0.68137106,\n",
              "       0.39528574, 0.21088986, 0.27516053, 0.3606506 , 0.01213521,\n",
              "       0.82554648, 0.99036391, 0.75740615, 0.12590456, 0.84632172,\n",
              "       0.98930869, 0.14604953, 0.24315649, 0.00447929, 0.64064168,\n",
              "       0.78439966, 0.45675541, 0.52075654, 0.69491969, 0.08535799,\n",
              "       0.62730005, 0.19135259, 0.57785551, 0.07070011, 0.85023266,\n",
              "       0.16127161, 0.15778975, 0.86919952, 0.15142014, 0.88879158,\n",
              "       0.20798238, 0.17386416, 0.74373618, 0.95211972, 0.90931504])"
            ]
          },
          "metadata": {
            "tags": []
          },
          "execution_count": 3
        }
      ]
    },
    {
      "cell_type": "code",
      "metadata": {
        "colab": {
          "base_uri": "https://localhost:8080/"
        },
        "id": "qHt4KKneuS63",
        "outputId": "8a372048-9dc6-4fd4-83de-9ac2555449fa"
      },
      "source": [
        "#평균\n",
        "import numpy as np\n",
        "\n",
        "dice = np.random.randint(1,7,100)   # 1이상 7미만의 수를 100개 뽑음\n",
        "print(dice)\n",
        "print(\"Average\",sum(dice)/len(dice))\n",
        "print(np.average(dice))\n",
        "print(np.mean(dice))"
      ],
      "execution_count": null,
      "outputs": [
        {
          "output_type": "stream",
          "text": [
            "[3 1 1 4 5 2 3 6 6 4 3 4 5 5 6 4 2 2 2 2 4 2 4 6 2 4 6 1 3 5 4 1 4 4 3 6 3\n",
            " 2 5 5 4 4 3 4 1 4 2 3 4 3 4 5 1 3 4 1 3 4 5 2 1 3 1 2 6 5 6 6 2 1 5 1 3 1\n",
            " 2 1 3 4 5 5 5 2 3 2 5 6 2 6 4 3 6 6 5 4 6 2 1 3 6 6]\n",
            "Average 3.54\n",
            "3.54\n",
            "3.54\n"
          ],
          "name": "stdout"
        }
      ]
    },
    {
      "cell_type": "code",
      "metadata": {
        "colab": {
          "base_uri": "https://localhost:8080/"
        },
        "id": "PuOAXmd5uUrM",
        "outputId": "495322ff-610f-4c4f-d548-42ba3449dec8"
      },
      "source": [
        "# 분산 구하기\n",
        "m = np.mean(dice)\n",
        "print(np.mean((dice-m)**2)) # 분산은 (변량 - 평균) 제곱의 평균\n",
        "print(np.var(dice))\n",
        "V = np.var(dice)"
      ],
      "execution_count": null,
      "outputs": [
        {
          "output_type": "stream",
          "text": [
            "2.6884\n",
            "2.6884\n"
          ],
          "name": "stdout"
        }
      ]
    },
    {
      "cell_type": "code",
      "metadata": {
        "id": "c5ck---xunkV",
        "colab": {
          "base_uri": "https://localhost:8080/"
        },
        "outputId": "8ae8d088-c585-4caf-ef66-c779f117ce48"
      },
      "source": [
        "# 표준편차\n",
        "\n",
        "print(np.sqrt(V))\n",
        "print(np.std(dice))"
      ],
      "execution_count": null,
      "outputs": [
        {
          "output_type": "stream",
          "text": [
            "1.6396341055247663\n",
            "1.6396341055247663\n"
          ],
          "name": "stdout"
        }
      ]
    },
    {
      "cell_type": "code",
      "metadata": {
        "id": "dxEWXCj_uoyn"
      },
      "source": [
        ""
      ],
      "execution_count": null,
      "outputs": []
    }
  ]
}