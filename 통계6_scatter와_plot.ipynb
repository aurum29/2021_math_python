{
  "nbformat": 4,
  "nbformat_minor": 0,
  "metadata": {
    "colab": {
      "name": "통계6 scatter와 plot.ipynb",
      "provenance": [],
      "authorship_tag": "ABX9TyObbnTMQ1aVOEJTmzBxFugv",
      "include_colab_link": true
    },
    "kernelspec": {
      "name": "python3",
      "display_name": "Python 3"
    },
    "language_info": {
      "name": "python"
    }
  },
  "cells": [
    {
      "cell_type": "markdown",
      "metadata": {
        "id": "view-in-github",
        "colab_type": "text"
      },
      "source": [
        "<a href=\"https://colab.research.google.com/github/zombe962/2021_math_python/blob/main/%ED%86%B5%EA%B3%846_scatter%EC%99%80_plot.ipynb\" target=\"_parent\"><img src=\"https://colab.research.google.com/assets/colab-badge.svg\" alt=\"Open In Colab\"/></a>"
      ]
    },
    {
      "cell_type": "code",
      "metadata": {
        "colab": {
          "base_uri": "https://localhost:8080/",
          "height": 318
        },
        "id": "sZVRiw4-9QSk",
        "outputId": "dd65debd-9f61-4591-bdd1-7cec11e42b47"
      },
      "source": [
        "from matplotlib import pyplot as plt\n",
        "import numpy as np\n",
        "import pandas as pd\n",
        "\n",
        "weight = 22, 24, 26, 30, 32, 40, 35, 45, 20, 29, 34, 36, 36, 38, 39, 48, 43, 37, 33, 31, 29, 39, 26, 29\n",
        "bum=np.arange(20,55,5)\n",
        "plt.hist(weight,bum,rwidth=0.7,color=\"#00ffe5\",edgecolor=\"black\",alpha=0.5)\n",
        "#plt.grid() # 눈금자\n",
        "plt.title('jiwooo weight', fontsize = 15, color=\"blue\")\n",
        "plt.xlabel('one weight (kg)',fontsize = 10)\n",
        "plt.xticks(fontsize = 12, color = \"red\")\n",
        "plt.ylabel('number', fontsize = 10)\n",
        "plt.yticks(fontsize = 9)\n",
        "plt.ylim(0,9) # 범위"
      ],
      "execution_count": 5,
      "outputs": [
        {
          "output_type": "execute_result",
          "data": {
            "text/plain": [
              "(0.0, 9.0)"
            ]
          },
          "metadata": {
            "tags": []
          },
          "execution_count": 5
        },
        {
          "output_type": "display_data",
          "data": {
            "image/png": "[encoded data removed]",
            "text/plain": [
              "<Figure size 432x288 with 1 Axes>"
            ]
          },
          "metadata": {
            "tags": [],
            "needs_background": "light"
          }
        }
      ]
    },
    {
      "cell_type": "code",
      "metadata": {
        "colab": {
          "base_uri": "https://localhost:8080/",
          "height": 282
        },
        "id": "Cn4RPwiE_hP2",
        "outputId": "747ec834-6a26-49d3-cf7e-3e8986ac4ce3"
      },
      "source": [
        "a = 1,2,3,4,5\n",
        "b = 1,2,3,4,5\n",
        "plt.figure()\n",
        "plt.scatter(a,b)"
      ],
      "execution_count": 9,
      "outputs": [
        {
          "output_type": "execute_result",
          "data": {
            "text/plain": [
              "<matplotlib.collections.PathCollection at 0x7ff42b601d90>"
            ]
          },
          "metadata": {
            "tags": []
          },
          "execution_count": 9
        },
        {
          "output_type": "display_data",
          "data": {
            "image/png": "[encoded data removed]",
            "text/plain": [
              "<Figure size 432x288 with 1 Axes>"
            ]
          },
          "metadata": {
            "tags": [],
            "needs_background": "light"
          }
        }
      ]
    },
    {
      "cell_type": "code",
      "metadata": {
        "colab": {
          "base_uri": "https://localhost:8080/",
          "height": 282
        },
        "id": "W0dBw0sk_oZw",
        "outputId": "fdd01d6b-770c-406a-b47f-8fb5c9bab509"
      },
      "source": [
        "plt.plot(a, b)"
      ],
      "execution_count": 11,
      "outputs": [
        {
          "output_type": "execute_result",
          "data": {
            "text/plain": [
              "[<matplotlib.lines.Line2D at 0x7ff426b29110>]"
            ]
          },
          "metadata": {
            "tags": []
          },
          "execution_count": 11
        },
        {
          "output_type": "display_data",
          "data": {
            "image/png": "[encoded data removed]",
            "text/plain": [
              "<Figure size 432x288 with 1 Axes>"
            ]
          },
          "metadata": {
            "tags": [],
            "needs_background": "light"
          }
        }
      ]
    },
    {
      "cell_type": "code",
      "metadata": {
        "colab": {
          "base_uri": "https://localhost:8080/",
          "height": 304
        },
        "id": "gu18ZnEEAjpQ",
        "outputId": "6a86043f-53e9-434a-db98-b2852afa3192"
      },
      "source": [
        "wei,bum = np.histogram(weight, bum) # wei는 도수\n",
        "bum2 = bum[:-1] + 2.5  # x 좌표\n",
        "print(bum2)\n",
        "nuwei = []\n",
        "a = 0\n",
        "\n",
        "for i in wei:\n",
        "    a += i\n",
        "    nuwei.append(a)\n",
        "plt.scatter(bum2, nuwei)\n",
        "# 상대도수 wei / len(weight)"
      ],
      "execution_count": 20,
      "outputs": [
        {
          "output_type": "stream",
          "text": [
            "[22.5 27.5 32.5 37.5 42.5 47.5]\n"
          ],
          "name": "stdout"
        },
        {
          "output_type": "execute_result",
          "data": {
            "text/plain": [
              "<matplotlib.collections.PathCollection at 0x7ff42667cb90>"
            ]
          },
          "metadata": {
            "tags": []
          },
          "execution_count": 20
        },
        {
          "output_type": "display_data",
          "data": {
            "image/png": "[encoded data removed]",
            "text/plain": [
              "<Figure size 432x288 with 1 Axes>"
            ]
          },
          "metadata": {
            "tags": [],
            "needs_background": "light"
          }
        }
      ]
    },
    {
      "cell_type": "code",
      "metadata": {
        "colab": {
          "base_uri": "https://localhost:8080/",
          "height": 286
        },
        "id": "s8CiqLspA3ys",
        "outputId": "fee0a607-1327-4faf-b090-f6847df5bd13"
      },
      "source": [
        "plt.plot(bum2, nuwei)"
      ],
      "execution_count": 19,
      "outputs": [
        {
          "output_type": "execute_result",
          "data": {
            "text/plain": [
              "[<matplotlib.lines.Line2D at 0x7ff4266eb3d0>]"
            ]
          },
          "metadata": {
            "tags": []
          },
          "execution_count": 19
        },
        {
          "output_type": "display_data",
          "data": {
            "image/png": "[encoded data removed]",
            "text/plain": [
              "<Figure size 432x288 with 1 Axes>"
            ]
          },
          "metadata": {
            "tags": [],
            "needs_background": "light"
          }
        }
      ]
    },
    {
      "cell_type": "code",
      "metadata": {
        "id": "Kk0cdDAZCd-K"
      },
      "source": [
        ""
      ],
      "execution_count": null,
      "outputs": []
    }
  ]
}