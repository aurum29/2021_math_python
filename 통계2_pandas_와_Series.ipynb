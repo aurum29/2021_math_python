{
  "nbformat": 4,
  "nbformat_minor": 0,
  "metadata": {
    "colab": {
      "name": "통계2 - pandas 와 Series.ipynb",
      "provenance": [],
      "authorship_tag": "ABX9TyNb5SKwZllNrh+pz9c8Ej1y",
      "include_colab_link": true
    },
    "kernelspec": {
      "name": "python3",
      "display_name": "Python 3"
    },
    "language_info": {
      "name": "python"
    }
  },
  "cells": [
    {
      "cell_type": "markdown",
      "metadata": {
        "id": "view-in-github",
        "colab_type": "text"
      },
      "source": [
        "<a href=\"https://colab.research.google.com/github/zombe962/2021_math_python/blob/main/%ED%86%B5%EA%B3%842_pandas_%EC%99%80_Series.ipynb\" target=\"_parent\"><img src=\"https://colab.research.google.com/assets/colab-badge.svg\" alt=\"Open In Colab\"/></a>"
      ]
    },
    {
      "cell_type": "markdown",
      "metadata": {
        "id": "LoVJasIH4f3V"
      },
      "source": [
        "# pandas.Series(도수, 계급)"
      ]
    },
    {
      "cell_type": "code",
      "metadata": {
        "colab": {
          "base_uri": "https://localhost:8080/"
        },
        "id": "mOVFR1d33r8Y",
        "outputId": "cfe20d9b-f44d-4eea-db46-809571b27a20"
      },
      "source": [
        "import pandas as pd\n",
        "import numpy as np\n",
        "\n",
        "birthday = 1,1,2,3,5,2,6,4,8,10,1,11,9,10,3,8,7,6,8,3\n",
        "\n",
        "jo = np.zeros(3)\n",
        "for i in birthday:\n",
        "    jo[i//4] += 1\n",
        "print(jo)\n",
        "\n",
        "yoon = ['0~4', '4~8', '8~12']\n",
        "do = pd.Series(jo, index = yoon, dtype=int) #pd.Series(도수, 계급)\n",
        "print(do)"
      ],
      "execution_count": 10,
      "outputs": [
        {
          "output_type": "stream",
          "text": [
            "[8. 5. 7.]\n",
            "0~4     8\n",
            "4~8     5\n",
            "8~12    7\n",
            "dtype: int64\n"
          ],
          "name": "stdout"
        }
      ]
    },
    {
      "cell_type": "code",
      "metadata": {
        "colab": {
          "base_uri": "https://localhost:8080/"
        },
        "id": "qtg9jdPn60AP",
        "outputId": "7071b76d-6e5d-4086-a51b-99be4b159034"
      },
      "source": [
        "e = {'a':15,'b':10,'c':5,'d':3}\n",
        "print(pd.Series(e))\n",
        "print(type(pd.Series(e)))"
      ],
      "execution_count": 12,
      "outputs": [
        {
          "output_type": "stream",
          "text": [
            "a    15\n",
            "b    10\n",
            "c     5\n",
            "d     3\n",
            "dtype: int64\n",
            "<class 'pandas.core.series.Series'>\n"
          ],
          "name": "stdout"
        }
      ]
    },
    {
      "cell_type": "code",
      "metadata": {
        "id": "WlD7QiIG9TaA"
      },
      "source": [
        ""
      ],
      "execution_count": null,
      "outputs": []
    }
  ]
}