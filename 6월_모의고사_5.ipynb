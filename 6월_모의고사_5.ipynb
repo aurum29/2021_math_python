{
  "nbformat": 4,
  "nbformat_minor": 0,
  "metadata": {
    "colab": {
      "name": "6월 모의고사 5.ipynb",
      "provenance": [],
      "collapsed_sections": [],
      "authorship_tag": "ABX9TyPXYPFXLGtQeNL2AXvYJjdt",
      "include_colab_link": true
    },
    "kernelspec": {
      "name": "python3",
      "display_name": "Python 3"
    },
    "language_info": {
      "name": "python"
    }
  },
  "cells": [
    {
      "cell_type": "markdown",
      "metadata": {
        "id": "view-in-github",
        "colab_type": "text"
      },
      "source": [
        "<a href=\"https://colab.research.google.com/github/zombe962/2021_math_python/blob/main/6%EC%9B%94_%EB%AA%A8%EC%9D%98%EA%B3%A0%EC%82%AC_5.ipynb\" target=\"_parent\"><img src=\"https://colab.research.google.com/assets/colab-badge.svg\" alt=\"Open In Colab\"/></a>"
      ]
    },
    {
      "cell_type": "markdown",
      "metadata": {
        "id": "n4sUChTmyC9f"
      },
      "source": [
        "29. 검은색 볼펜 1자루, 파란색 볼펜 4자루, 빨간색 볼펜 4자루가 \n",
        "있다. 이 9자루의 볼펜 중에서 5자루를 선택하여 2명의 \n",
        "학생에게 남김없이 나누어 주는 경우의 수를 구하시오. \n",
        "(단, 같은 색 볼펜끼리는 서로 구별하지 않고, 볼펜을 1자루도 \n",
        "받지 못하는 학생이 있을 수 있다.) [4점]"
      ]
    },
    {
      "cell_type": "markdown",
      "metadata": {
        "id": "CQYXDhv9ubWl"
      },
      "source": [
        "검 : x, 파 : y, 빨 : z\n",
        "\n",
        "x + y + z = 5\n",
        "\n",
        "순서쌍 만들기"
      ]
    },
    {
      "cell_type": "code",
      "metadata": {
        "colab": {
          "base_uri": "https://localhost:8080/"
        },
        "id": "aVNwjsPNqgE9",
        "outputId": "2e983904-99a6-4921-c402-99a34ad0858a"
      },
      "source": [
        "# 검(G), 파(B), 빨(R) 순서쌍 출력\n",
        "A = []\n",
        "for x in range(2):  # 블랙(G)\n",
        "    for y in range(5):  # 파랑(B)\n",
        "        for z in range(5):  # 빨강(R)\n",
        "            if x + y + z == 5:\n",
        "                A.append('G'*x + 'B'*y + 'R'*z)\n",
        "\n",
        "print(A)"
      ],
      "execution_count": 9,
      "outputs": [
        {
          "output_type": "stream",
          "text": [
            "['BRRRR', 'BBRRR', 'BBBRR', 'BBBBR', 'GRRRR', 'GBRRR', 'GBBRR', 'GBBBR', 'GBBBB']\n"
          ],
          "name": "stdout"
        }
      ]
    },
    {
      "cell_type": "code",
      "metadata": {
        "colab": {
          "base_uri": "https://localhost:8080/",
          "height": 35
        },
        "id": "LESwvKcyxIkO",
        "outputId": "b198a03c-d908-4e93-c348-c0fd8c3a7c7b"
      },
      "source": [
        "'G'+'2'"
      ],
      "execution_count": 7,
      "outputs": [
        {
          "output_type": "execute_result",
          "data": {
            "application/vnd.google.colaboratory.intrinsic+json": {
              "type": "string"
            },
            "text/plain": [
              "'G2'"
            ]
          },
          "metadata": {
            "tags": []
          },
          "execution_count": 7
        }
      ]
    },
    {
      "cell_type": "code",
      "metadata": {
        "colab": {
          "base_uri": "https://localhost:8080/",
          "height": 35
        },
        "id": "rg7__AE9xJxu",
        "outputId": "add1315d-ee9f-4436-8394-cbf8c5b3b0bb"
      },
      "source": [
        "'G'*2"
      ],
      "execution_count": 8,
      "outputs": [
        {
          "output_type": "execute_result",
          "data": {
            "application/vnd.google.colaboratory.intrinsic+json": {
              "type": "string"
            },
            "text/plain": [
              "'GG'"
            ]
          },
          "metadata": {
            "tags": []
          },
          "execution_count": 8
        }
      ]
    }
  ]
}