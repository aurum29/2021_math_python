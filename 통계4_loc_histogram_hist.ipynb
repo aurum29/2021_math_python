{
  "nbformat": 4,
  "nbformat_minor": 0,
  "metadata": {
    "colab": {
      "name": "통계4 loc_histogram_hist.ipynb",
      "provenance": [],
      "authorship_tag": "ABX9TyPftiBoP95llWTIHGF2ygfd",
      "include_colab_link": true
    },
    "kernelspec": {
      "name": "python3",
      "display_name": "Python 3"
    },
    "language_info": {
      "name": "python"
    }
  },
  "cells": [
    {
      "cell_type": "markdown",
      "metadata": {
        "id": "view-in-github",
        "colab_type": "text"
      },
      "source": [
        "<a href=\"https://colab.research.google.com/github/zombe962/2021_math_python/blob/main/%ED%86%B5%EA%B3%844_loc_histogram_hist.ipynb\" target=\"_parent\"><img src=\"https://colab.research.google.com/assets/colab-badge.svg\" alt=\"Open In Colab\"/></a>"
      ]
    },
    {
      "cell_type": "markdown",
      "metadata": {
        "id": "eBgst4NIA37x"
      },
      "source": [
        "# 3x3 표 연습"
      ]
    },
    {
      "cell_type": "code",
      "metadata": {
        "colab": {
          "base_uri": "https://localhost:8080/",
          "height": 136
        },
        "id": "XMVSe-yUA2y6",
        "outputId": "ce51ca01-874b-46db-91ec-4309fa8b21cc"
      },
      "source": [
        "import numpy as np\n",
        "import pandas as pd\n",
        "a = np.zeros((3,3))\n",
        "\n",
        "pd.DataFrame(a,dtype=int)"
      ],
      "execution_count": 4,
      "outputs": [
        {
          "output_type": "execute_result",
          "data": {
            "text/html": [
              "<div>\n",
              "<style scoped>\n",
              "    .dataframe tbody tr th:only-of-type {\n",
              "        vertical-align: middle;\n",
              "    }\n",
              "\n",
              "    .dataframe tbody tr th {\n",
              "        vertical-align: top;\n",
              "    }\n",
              "\n",
              "    .dataframe thead th {\n",
              "        text-align: right;\n",
              "    }\n",
              "</style>\n",
              "<table border=\"1\" class=\"dataframe\">\n",
              "  <thead>\n",
              "    <tr style=\"text-align: right;\">\n",
              "      <th></th>\n",
              "      <th>0</th>\n",
              "      <th>1</th>\n",
              "      <th>2</th>\n",
              "    </tr>\n",
              "  </thead>\n",
              "  <tbody>\n",
              "    <tr>\n",
              "      <th>0</th>\n",
              "      <td>0</td>\n",
              "      <td>0</td>\n",
              "      <td>0</td>\n",
              "    </tr>\n",
              "    <tr>\n",
              "      <th>1</th>\n",
              "      <td>0</td>\n",
              "      <td>0</td>\n",
              "      <td>0</td>\n",
              "    </tr>\n",
              "    <tr>\n",
              "      <th>2</th>\n",
              "      <td>0</td>\n",
              "      <td>0</td>\n",
              "      <td>0</td>\n",
              "    </tr>\n",
              "  </tbody>\n",
              "</table>\n",
              "</div>"
            ],
            "text/plain": [
              "   0  1  2\n",
              "0  0  0  0\n",
              "1  0  0  0\n",
              "2  0  0  0"
            ]
          },
          "metadata": {
            "tags": []
          },
          "execution_count": 4
        }
      ]
    },
    {
      "cell_type": "code",
      "metadata": {
        "colab": {
          "base_uri": "https://localhost:8080/"
        },
        "id": "AkxOLm7LBm0c",
        "outputId": "8e231383-8281-417a-e890-8fdc2775f7b6"
      },
      "source": [
        "import numpy as np\n",
        "import pandas as pd\n",
        "\n",
        "등급 = [1,2,3]\n",
        "점수 = [90, 80, 70]\n",
        "표준점수 = [96, 95, 74]\n",
        "\n",
        "한우 = {'등급':pd.Series(등급,index=['서산', '천안', '아산']), '점수':pd.Series(점수,index=['서산', '천안', '아산']), '표준점수':pd.Series(표준점수,index=['서산', '천안', '아산'])}\n",
        "한우"
      ],
      "execution_count": 18,
      "outputs": [
        {
          "output_type": "execute_result",
          "data": {
            "text/plain": [
              "{'등급': 서산    1\n",
              " 천안    2\n",
              " 아산    3\n",
              " dtype: int64, '점수': 서산    90\n",
              " 천안    80\n",
              " 아산    70\n",
              " dtype: int64, '표준점수': 서산    96\n",
              " 천안    95\n",
              " 아산    74\n",
              " dtype: int64}"
            ]
          },
          "metadata": {
            "tags": []
          },
          "execution_count": 18
        }
      ]
    },
    {
      "cell_type": "code",
      "metadata": {
        "colab": {
          "base_uri": "https://localhost:8080/",
          "height": 136
        },
        "id": "0l0_Og-YCu2e",
        "outputId": "cb41f019-9b2c-466c-c61c-f39d300f3275"
      },
      "source": [
        "han = pd.DataFrame(한우,index=['서산', '천안', '아산'])\n",
        "han"
      ],
      "execution_count": 16,
      "outputs": [
        {
          "output_type": "execute_result",
          "data": {
            "text/html": [
              "<div>\n",
              "<style scoped>\n",
              "    .dataframe tbody tr th:only-of-type {\n",
              "        vertical-align: middle;\n",
              "    }\n",
              "\n",
              "    .dataframe tbody tr th {\n",
              "        vertical-align: top;\n",
              "    }\n",
              "\n",
              "    .dataframe thead th {\n",
              "        text-align: right;\n",
              "    }\n",
              "</style>\n",
              "<table border=\"1\" class=\"dataframe\">\n",
              "  <thead>\n",
              "    <tr style=\"text-align: right;\">\n",
              "      <th></th>\n",
              "      <th>등급</th>\n",
              "      <th>점수</th>\n",
              "      <th>표준점수</th>\n",
              "    </tr>\n",
              "  </thead>\n",
              "  <tbody>\n",
              "    <tr>\n",
              "      <th>서산</th>\n",
              "      <td>1</td>\n",
              "      <td>90</td>\n",
              "      <td>96</td>\n",
              "    </tr>\n",
              "    <tr>\n",
              "      <th>천안</th>\n",
              "      <td>2</td>\n",
              "      <td>80</td>\n",
              "      <td>95</td>\n",
              "    </tr>\n",
              "    <tr>\n",
              "      <th>아산</th>\n",
              "      <td>3</td>\n",
              "      <td>70</td>\n",
              "      <td>74</td>\n",
              "    </tr>\n",
              "  </tbody>\n",
              "</table>\n",
              "</div>"
            ],
            "text/plain": [
              "    등급  점수  표준점수\n",
              "서산   1  90    96\n",
              "천안   2  80    95\n",
              "아산   3  70    74"
            ]
          },
          "metadata": {
            "tags": []
          },
          "execution_count": 16
        }
      ]
    },
    {
      "cell_type": "markdown",
      "metadata": {
        "id": "TyoyaXOLFtoo"
      },
      "source": [
        "# loc와 iloc"
      ]
    },
    {
      "cell_type": "code",
      "metadata": {
        "colab": {
          "base_uri": "https://localhost:8080/"
        },
        "id": "pVrgjwKiDhDP",
        "outputId": "f23b7c44-d454-446f-bf5a-c553e99ce592"
      },
      "source": [
        "print(han.loc['서산'])"
      ],
      "execution_count": 32,
      "outputs": [
        {
          "output_type": "stream",
          "text": [
            "등급       1\n",
            "점수      90\n",
            "표준점수    96\n",
            "Name: 서산, dtype: int64\n"
          ],
          "name": "stdout"
        }
      ]
    },
    {
      "cell_type": "code",
      "metadata": {
        "colab": {
          "base_uri": "https://localhost:8080/"
        },
        "id": "KGNJz-I0Epii",
        "outputId": "d7030774-c5c2-4b2c-acb0-563a9727279f"
      },
      "source": [
        "print(han.iloc[0])  #index_loc"
      ],
      "execution_count": 33,
      "outputs": [
        {
          "output_type": "stream",
          "text": [
            "등급       1\n",
            "점수      90\n",
            "표준점수    96\n",
            "Name: 서산, dtype: int64\n"
          ],
          "name": "stdout"
        }
      ]
    },
    {
      "cell_type": "code",
      "metadata": {
        "colab": {
          "base_uri": "https://localhost:8080/"
        },
        "id": "6RGI9mUqFXDr",
        "outputId": "e1bd552b-6b66-4ecf-a6c8-b872c18882d9"
      },
      "source": [
        "weight = 22, 24, 26, 30, 32, 40, 35, 45, 20, 29, 34, 36, 36, 38, 39, 48, 43, 37, 33, 31, 29, 39, 26, 29\n",
        "\n",
        "bum = np.arange(20,55,5)\n",
        "print(bum, type(bum))\n",
        "print(bum + 5)    #range와 다르게 연산 가능(array이므로)"
      ],
      "execution_count": 36,
      "outputs": [
        {
          "output_type": "stream",
          "text": [
            "[20 25 30 35 40 45 50] <class 'numpy.ndarray'>\n",
            "[25 30 35 40 45 50 55]\n"
          ],
          "name": "stdout"
        }
      ]
    },
    {
      "cell_type": "markdown",
      "metadata": {
        "id": "mcbo1W0tHLmW"
      },
      "source": [
        "# 이름,범위 = np.histogram(자료, 범위)\n",
        "np.zeros로 해서 하나씩 count 하는 것과 같은 결과"
      ]
    },
    {
      "cell_type": "code",
      "metadata": {
        "colab": {
          "base_uri": "https://localhost:8080/"
        },
        "id": "hwbgw5yiGI_1",
        "outputId": "db496832-b36d-4f07-a0cd-de0d3d4297f0"
      },
      "source": [
        "# 이름,범위 = np.histogram(자료, 범위)\n",
        "wei,bum = np.histogram(weight,bum)\n",
        "print(wei, type(wei))   #np.zeros로 해서 하나식 count 하는 것과 같다."
      ],
      "execution_count": 39,
      "outputs": [
        {
          "output_type": "stream",
          "text": [
            "[3 5 5 7 2 2] <class 'numpy.ndarray'>\n"
          ],
          "name": "stdout"
        }
      ]
    },
    {
      "cell_type": "markdown",
      "metadata": {
        "id": "VuB-4r8gHlm8"
      },
      "source": [
        "#plt.hist"
      ]
    },
    {
      "cell_type": "code",
      "metadata": {
        "colab": {
          "base_uri": "https://localhost:8080/",
          "height": 318
        },
        "id": "qqWvWFpCGmRu",
        "outputId": "e6338e17-6e5c-477a-9c5d-49318fe45504"
      },
      "source": [
        "import matplotlib.pyplot as plt\n",
        "\n",
        "plt.hist(weight,bum)    # histogram을 자동으로 만듦"
      ],
      "execution_count": 41,
      "outputs": [
        {
          "output_type": "execute_result",
          "data": {
            "text/plain": [
              "(array([3., 5., 5., 7., 2., 2.]),\n",
              " array([20, 25, 30, 35, 40, 45, 50]),\n",
              " <a list of 6 Patch objects>)"
            ]
          },
          "metadata": {
            "tags": []
          },
          "execution_count": 41
        },
        {
          "output_type": "display_data",
          "data": {
            "image/png": "[encoded data removed]",
            "text/plain": [
              "<Figure size 432x288 with 1 Axes>"
            ]
          },
          "metadata": {
            "tags": [],
            "needs_background": "light"
          }
        }
      ]
    },
    {
      "cell_type": "code",
      "metadata": {
        "id": "LQ1qL0NkHD3t"
      },
      "source": [
        ""
      ],
      "execution_count": null,
      "outputs": []
    }
  ]
}