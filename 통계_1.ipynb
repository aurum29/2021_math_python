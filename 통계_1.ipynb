{
  "nbformat": 4,
  "nbformat_minor": 0,
  "metadata": {
    "colab": {
      "name": "통계 1.ipynb",
      "provenance": [],
      "collapsed_sections": [],
      "toc_visible": true,
      "authorship_tag": "ABX9TyPWVBPTJzIDzPzsI3Dl92o3",
      "include_colab_link": true
    },
    "kernelspec": {
      "name": "python3",
      "display_name": "Python 3"
    },
    "language_info": {
      "name": "python"
    }
  },
  "cells": [
    {
      "cell_type": "markdown",
      "metadata": {
        "id": "view-in-github",
        "colab_type": "text"
      },
      "source": [
        "<a href=\"https://colab.research.google.com/github/zombe962/2021_math_python/blob/main/%ED%86%B5%EA%B3%84_1.ipynb\" target=\"_parent\"><img src=\"https://colab.research.google.com/assets/colab-badge.svg\" alt=\"Open In Colab\"/></a>"
      ]
    },
    {
      "cell_type": "markdown",
      "metadata": {
        "id": "tACqRbtbvLGE"
      },
      "source": [
        "# dictionary\n",
        "\n",
        "{ keys : value }"
      ]
    },
    {
      "cell_type": "code",
      "metadata": {
        "colab": {
          "base_uri": "https://localhost:8080/"
        },
        "id": "u3oAljGDuiKo",
        "outputId": "fac905c1-fe0f-45bd-cda3-10ed3e8dc668"
      },
      "source": [
        "a = {\"name\":\"jiwoo\",\"age\":18, \"charater\":\"kind\", \"weight\":65, \"height\":180}\n",
        "print(a['name'])\n",
        "print(a['age'])\n",
        "\n",
        "del a['height'] # 삭제\n",
        "print(a)\n",
        "\n",
        "a['height'] = 190   # 추가\n",
        "print(a)"
      ],
      "execution_count": 10,
      "outputs": [
        {
          "output_type": "stream",
          "text": [
            "jiwoo\n",
            "18\n",
            "{'name': 'jiwoo', 'age': 18, 'charater': 'kind', 'weight': 65}\n",
            "{'name': 'jiwoo', 'age': 18, 'charater': 'kind', 'weight': 65, 'height': 190}\n"
          ],
          "name": "stdout"
        }
      ]
    },
    {
      "cell_type": "markdown",
      "metadata": {
        "id": "JD-KUw9FzeWj"
      },
      "source": [
        "# 도수분포표\n",
        "count 하기"
      ]
    },
    {
      "cell_type": "code",
      "metadata": {
        "colab": {
          "base_uri": "https://localhost:8080/"
        },
        "id": "7rDK8bLEwcg7",
        "outputId": "4660cb4b-b9df-4694-f64e-cfc622822c24"
      },
      "source": [
        "import numpy as np\n",
        "\n",
        "birthday = 1,1,2,3,5,2,6,4,8,10,1,11,9,10,3,8,7,6,8,3\n",
        "print(type(birthday))\n",
        "jo = np.zeros(3)\n",
        "print(jo)\n",
        "for i in birthday:\n",
        "    jo[i//4] += 1\n",
        "\n",
        "print(jo)\n",
        "    "
      ],
      "execution_count": 15,
      "outputs": [
        {
          "output_type": "stream",
          "text": [
            "<class 'tuple'>\n",
            "[0. 0. 0.]\n",
            "[8. 5. 7.]\n"
          ],
          "name": "stdout"
        }
      ]
    }
  ]
}