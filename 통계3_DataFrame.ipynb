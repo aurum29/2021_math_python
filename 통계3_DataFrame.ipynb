{
  "nbformat": 4,
  "nbformat_minor": 0,
  "metadata": {
    "colab": {
      "name": "통계3 DataFrame.ipynb",
      "provenance": [],
      "authorship_tag": "ABX9TyNwXG6I0Zw7J3ot7W4SALxe",
      "include_colab_link": true
    },
    "kernelspec": {
      "name": "python3",
      "display_name": "Python 3"
    },
    "language_info": {
      "name": "python"
    }
  },
  "cells": [
    {
      "cell_type": "markdown",
      "metadata": {
        "id": "view-in-github",
        "colab_type": "text"
      },
      "source": [
        "<a href=\"https://colab.research.google.com/github/zombe962/2021_math_python/blob/main/%ED%86%B5%EA%B3%843_DataFrame.ipynb\" target=\"_parent\"><img src=\"https://colab.research.google.com/assets/colab-badge.svg\" alt=\"Open In Colab\"/></a>"
      ]
    },
    {
      "cell_type": "code",
      "metadata": {
        "colab": {
          "base_uri": "https://localhost:8080/"
        },
        "id": "ORplyPptpZok",
        "outputId": "25f24bdf-1f8d-4666-ac0d-32a0aa0bbdb4"
      },
      "source": [
        "import pandas as pd\n",
        "import numpy as np\n",
        "\n",
        "e = {'a':15, 'b':10, 'c':5, 'd':3}\n",
        "f = pd.Series(e)\n",
        "f.name='Four 반의 에이지'\n",
        "print(f)"
      ],
      "execution_count": 2,
      "outputs": [
        {
          "output_type": "stream",
          "text": [
            "a    15\n",
            "b    10\n",
            "c     5\n",
            "d     3\n",
            "Name: Four 반의 에이지, dtype: int64\n"
          ],
          "name": "stdout"
        }
      ]
    },
    {
      "cell_type": "code",
      "metadata": {
        "colab": {
          "base_uri": "https://localhost:8080/"
        },
        "id": "3n45Lsg8rzcX",
        "outputId": "ecdcb4c9-ea3d-4164-b186-c4a032ade08f"
      },
      "source": [
        "dd = np.array([1,2,3,4,5])\n",
        "print(type(dd)) # 연산가능한 리스트(배열)\n",
        "print(dd)\n",
        "print(dd+5)"
      ],
      "execution_count": 4,
      "outputs": [
        {
          "output_type": "stream",
          "text": [
            "<class 'numpy.ndarray'>\n",
            "[1 2 3 4 5]\n",
            "[ 6  7  8  9 10]\n"
          ],
          "name": "stdout"
        }
      ]
    },
    {
      "cell_type": "code",
      "metadata": {
        "colab": {
          "base_uri": "https://localhost:8080/"
        },
        "id": "q4aEGcm9s1oE",
        "outputId": "1fc06d64-bba3-4dbf-9470-4dd14f46c485"
      },
      "source": [
        "weight = 22, 24, 26, 30, 32, 40, 35, 45, 20, 29, 34, 36, 36, 38, 39, 48, 43, 37, 33, 31, 29, 39, 26, 29\n",
        "df = np.zeros(6)\n",
        "for i in weight:\n",
        "    df[i//5 - 4] += 1\n",
        "wei=['20~25','25~30','30~35','35~40','40~45','45~50']\n",
        "weif=pd.Series(df, index=wei, dtype=int)\n",
        "print(weif)"
      ],
      "execution_count": 9,
      "outputs": [
        {
          "output_type": "stream",
          "text": [
            "20~25    3\n",
            "25~30    5\n",
            "30~35    5\n",
            "35~40    7\n",
            "40~45    2\n",
            "45~50    2\n",
            "dtype: int64\n"
          ],
          "name": "stdout"
        }
      ]
    },
    {
      "cell_type": "code",
      "metadata": {
        "colab": {
          "base_uri": "https://localhost:8080/"
        },
        "id": "Oj_zIts1t0Fy",
        "outputId": "d0d001b6-3094-4a26-d837-fdb0404f034b"
      },
      "source": [
        "# series의 연산\n",
        "print(weif+2)\n",
        "print()\n",
        "print(weif*2)\n",
        "print()\n",
        "print(weif**2)\n",
        "print()"
      ],
      "execution_count": 13,
      "outputs": [
        {
          "output_type": "stream",
          "text": [
            "20~25    5\n",
            "25~30    7\n",
            "30~35    7\n",
            "35~40    9\n",
            "40~45    4\n",
            "45~50    4\n",
            "dtype: int64\n",
            "\n",
            "20~25     6\n",
            "25~30    10\n",
            "30~35    10\n",
            "35~40    14\n",
            "40~45     4\n",
            "45~50     4\n",
            "dtype: int64\n",
            "\n",
            "20~25     9\n",
            "25~30    25\n",
            "30~35    25\n",
            "35~40    49\n",
            "40~45     4\n",
            "45~50     4\n",
            "dtype: int64\n",
            "\n"
          ],
          "name": "stdout"
        }
      ]
    },
    {
      "cell_type": "code",
      "metadata": {
        "id": "Ce_7WGBwu36v"
      },
      "source": [
        "height = [124, 125, 128, 130, 134, 140, 131, 143, 122, 129, 136, 139, 141, 135, 142, 150, 149, 141, 127, 131, 130, 125, 135, 126]"
      ],
      "execution_count": 16,
      "outputs": []
    },
    {
      "cell_type": "code",
      "metadata": {
        "colab": {
          "base_uri": "https://localhost:8080/"
        },
        "id": "U-L62Y7PvLOi",
        "outputId": "b6d00e73-a0ff-4a49-f8a3-36f13f6d7101"
      },
      "source": [
        "print(len(weight),len(height))"
      ],
      "execution_count": 17,
      "outputs": [
        {
          "output_type": "stream",
          "text": [
            "24 24\n"
          ],
          "name": "stdout"
        }
      ]
    },
    {
      "cell_type": "code",
      "metadata": {
        "colab": {
          "base_uri": "https://localhost:8080/"
        },
        "id": "6GEVGpxavwQP",
        "outputId": "8fd44dc5-f04f-4101-ee33-0a7ca1dc0c82"
      },
      "source": [
        "wh = np.zeros((24,2))\n",
        "\n",
        "wh[:,0] = weight\n",
        "wh[:,1] = height\n",
        "print(wh)"
      ],
      "execution_count": 27,
      "outputs": [
        {
          "output_type": "stream",
          "text": [
            "[[ 22. 124.]\n",
            " [ 24. 125.]\n",
            " [ 26. 128.]\n",
            " [ 30. 130.]\n",
            " [ 32. 134.]\n",
            " [ 40. 140.]\n",
            " [ 35. 131.]\n",
            " [ 45. 143.]\n",
            " [ 20. 122.]\n",
            " [ 29. 129.]\n",
            " [ 34. 136.]\n",
            " [ 36. 139.]\n",
            " [ 36. 141.]\n",
            " [ 38. 135.]\n",
            " [ 39. 142.]\n",
            " [ 48. 150.]\n",
            " [ 43. 149.]\n",
            " [ 37. 141.]\n",
            " [ 33. 127.]\n",
            " [ 31. 131.]\n",
            " [ 29. 130.]\n",
            " [ 39. 125.]\n",
            " [ 26. 135.]\n",
            " [ 29. 126.]]\n"
          ],
          "name": "stdout"
        }
      ]
    },
    {
      "cell_type": "code",
      "metadata": {
        "colab": {
          "base_uri": "https://localhost:8080/",
          "height": 758
        },
        "id": "fMXxs5YMwADV",
        "outputId": "10aee897-8146-43c5-c595-b2c8b26a84cf"
      },
      "source": [
        "whwh = pd.DataFrame(wh,columns=['weight','height'])    # 왼쪽 순서 정하고 싶으면 wh,index = [list], columns=['weight','height']\n",
        "whwh"
      ],
      "execution_count": 30,
      "outputs": [
        {
          "output_type": "execute_result",
          "data": {
            "text/html": [
              "<div>\n",
              "<style scoped>\n",
              "    .dataframe tbody tr th:only-of-type {\n",
              "        vertical-align: middle;\n",
              "    }\n",
              "\n",
              "    .dataframe tbody tr th {\n",
              "        vertical-align: top;\n",
              "    }\n",
              "\n",
              "    .dataframe thead th {\n",
              "        text-align: right;\n",
              "    }\n",
              "</style>\n",
              "<table border=\"1\" class=\"dataframe\">\n",
              "  <thead>\n",
              "    <tr style=\"text-align: right;\">\n",
              "      <th></th>\n",
              "      <th>weight</th>\n",
              "      <th>height</th>\n",
              "    </tr>\n",
              "  </thead>\n",
              "  <tbody>\n",
              "    <tr>\n",
              "      <th>0</th>\n",
              "      <td>22.0</td>\n",
              "      <td>124.0</td>\n",
              "    </tr>\n",
              "    <tr>\n",
              "      <th>1</th>\n",
              "      <td>24.0</td>\n",
              "      <td>125.0</td>\n",
              "    </tr>\n",
              "    <tr>\n",
              "      <th>2</th>\n",
              "      <td>26.0</td>\n",
              "      <td>128.0</td>\n",
              "    </tr>\n",
              "    <tr>\n",
              "      <th>3</th>\n",
              "      <td>30.0</td>\n",
              "      <td>130.0</td>\n",
              "    </tr>\n",
              "    <tr>\n",
              "      <th>4</th>\n",
              "      <td>32.0</td>\n",
              "      <td>134.0</td>\n",
              "    </tr>\n",
              "    <tr>\n",
              "      <th>5</th>\n",
              "      <td>40.0</td>\n",
              "      <td>140.0</td>\n",
              "    </tr>\n",
              "    <tr>\n",
              "      <th>6</th>\n",
              "      <td>35.0</td>\n",
              "      <td>131.0</td>\n",
              "    </tr>\n",
              "    <tr>\n",
              "      <th>7</th>\n",
              "      <td>45.0</td>\n",
              "      <td>143.0</td>\n",
              "    </tr>\n",
              "    <tr>\n",
              "      <th>8</th>\n",
              "      <td>20.0</td>\n",
              "      <td>122.0</td>\n",
              "    </tr>\n",
              "    <tr>\n",
              "      <th>9</th>\n",
              "      <td>29.0</td>\n",
              "      <td>129.0</td>\n",
              "    </tr>\n",
              "    <tr>\n",
              "      <th>10</th>\n",
              "      <td>34.0</td>\n",
              "      <td>136.0</td>\n",
              "    </tr>\n",
              "    <tr>\n",
              "      <th>11</th>\n",
              "      <td>36.0</td>\n",
              "      <td>139.0</td>\n",
              "    </tr>\n",
              "    <tr>\n",
              "      <th>12</th>\n",
              "      <td>36.0</td>\n",
              "      <td>141.0</td>\n",
              "    </tr>\n",
              "    <tr>\n",
              "      <th>13</th>\n",
              "      <td>38.0</td>\n",
              "      <td>135.0</td>\n",
              "    </tr>\n",
              "    <tr>\n",
              "      <th>14</th>\n",
              "      <td>39.0</td>\n",
              "      <td>142.0</td>\n",
              "    </tr>\n",
              "    <tr>\n",
              "      <th>15</th>\n",
              "      <td>48.0</td>\n",
              "      <td>150.0</td>\n",
              "    </tr>\n",
              "    <tr>\n",
              "      <th>16</th>\n",
              "      <td>43.0</td>\n",
              "      <td>149.0</td>\n",
              "    </tr>\n",
              "    <tr>\n",
              "      <th>17</th>\n",
              "      <td>37.0</td>\n",
              "      <td>141.0</td>\n",
              "    </tr>\n",
              "    <tr>\n",
              "      <th>18</th>\n",
              "      <td>33.0</td>\n",
              "      <td>127.0</td>\n",
              "    </tr>\n",
              "    <tr>\n",
              "      <th>19</th>\n",
              "      <td>31.0</td>\n",
              "      <td>131.0</td>\n",
              "    </tr>\n",
              "    <tr>\n",
              "      <th>20</th>\n",
              "      <td>29.0</td>\n",
              "      <td>130.0</td>\n",
              "    </tr>\n",
              "    <tr>\n",
              "      <th>21</th>\n",
              "      <td>39.0</td>\n",
              "      <td>125.0</td>\n",
              "    </tr>\n",
              "    <tr>\n",
              "      <th>22</th>\n",
              "      <td>26.0</td>\n",
              "      <td>135.0</td>\n",
              "    </tr>\n",
              "    <tr>\n",
              "      <th>23</th>\n",
              "      <td>29.0</td>\n",
              "      <td>126.0</td>\n",
              "    </tr>\n",
              "  </tbody>\n",
              "</table>\n",
              "</div>"
            ],
            "text/plain": [
              "    weight  height\n",
              "0     22.0   124.0\n",
              "1     24.0   125.0\n",
              "2     26.0   128.0\n",
              "3     30.0   130.0\n",
              "4     32.0   134.0\n",
              "5     40.0   140.0\n",
              "6     35.0   131.0\n",
              "7     45.0   143.0\n",
              "8     20.0   122.0\n",
              "9     29.0   129.0\n",
              "10    34.0   136.0\n",
              "11    36.0   139.0\n",
              "12    36.0   141.0\n",
              "13    38.0   135.0\n",
              "14    39.0   142.0\n",
              "15    48.0   150.0\n",
              "16    43.0   149.0\n",
              "17    37.0   141.0\n",
              "18    33.0   127.0\n",
              "19    31.0   131.0\n",
              "20    29.0   130.0\n",
              "21    39.0   125.0\n",
              "22    26.0   135.0\n",
              "23    29.0   126.0"
            ]
          },
          "metadata": {
            "tags": []
          },
          "execution_count": 30
        }
      ]
    },
    {
      "cell_type": "code",
      "metadata": {
        "colab": {
          "base_uri": "https://localhost:8080/"
        },
        "id": "NVQZsOOpwdiL",
        "outputId": "92adea8d-d3d9-4164-ebd4-0d8a023326bf"
      },
      "source": [
        "print(whwh.index, whwh.columns)"
      ],
      "execution_count": 33,
      "outputs": [
        {
          "output_type": "stream",
          "text": [
            "RangeIndex(start=0, stop=24, step=1) Index(['weight', 'height'], dtype='object')\n"
          ],
          "name": "stdout"
        }
      ]
    }
  ]
}