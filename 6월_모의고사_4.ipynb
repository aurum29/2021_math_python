{
  "nbformat": 4,
  "nbformat_minor": 0,
  "metadata": {
    "colab": {
      "name": "6월 모의고사 4.ipynb",
      "provenance": [],
      "authorship_tag": "ABX9TyPTLDw8gBoAVMbUNr4kNTNj",
      "include_colab_link": true
    },
    "kernelspec": {
      "name": "python3",
      "display_name": "Python 3"
    },
    "language_info": {
      "name": "python"
    }
  },
  "cells": [
    {
      "cell_type": "markdown",
      "metadata": {
        "id": "view-in-github",
        "colab_type": "text"
      },
      "source": [
        "<a href=\"https://colab.research.google.com/github/zombe962/2021_math_python/blob/main/6%EC%9B%94_%EB%AA%A8%EC%9D%98%EA%B3%A0%EC%82%AC_4.ipynb\" target=\"_parent\"><img src=\"https://colab.research.google.com/assets/colab-badge.svg\" alt=\"Open In Colab\"/></a>"
      ]
    },
    {
      "cell_type": "markdown",
      "metadata": {
        "id": "oliTsYVOitl6"
      },
      "source": [
        "# 조건부 확률\n",
        "\n",
        "-> 사건의 경우의 수 / 전체 경우의 수\n",
        "\n",
        "\n",
        "\n",
        "A 사건이 일어났을 때 (그 안에서) B 사건이 일어날 확률\n",
        "\n",
        "-> 분모가 전체 A, n(AnB) / n(A)"
      ]
    },
    {
      "cell_type": "markdown",
      "metadata": {
        "id": "Bl2NvtfGiHW0"
      },
      "source": [
        " 주머니에 숫자 1, 2, 3, 4가 하나씩 적혀 있는 흰 공 4개와 \n",
        "숫자 3, 4, 5, 6이 하나씩 적혀 있는 검은 공 4개가 들어 있다. \n",
        "이 주머니에서 임의로 4개의 공을 동시에 꺼내는 시행을 한다. \n",
        "이 시행에서 꺼낸 공에 적혀 있는 수가 같은 것이 있을 때, \n",
        "꺼낸 공 중 검은 공이 2개일 확률은 q / p 이다. p + q 의 값을 \n",
        "구하시오. (단, p와 q는 서로소인 자연수이다.)"
      ]
    },
    {
      "cell_type": "code",
      "metadata": {
        "colab": {
          "base_uri": "https://localhost:8080/"
        },
        "id": "57efI13hiDj1",
        "outputId": "13283075-40a0-40be-f000-ba876cc87ece"
      },
      "source": [
        "from itertools import combinations as c\n",
        "\n",
        "A = ['w1', 'w2', 'w3', 'w4', 'b3', 'b4', 'b5', 'b6']\n",
        "B = list(c(A, 4))\n",
        "\n",
        "# print(B)\n",
        "# print(len(B))   # 70\n",
        "\n",
        "'''\n",
        "Q = ''.join(A)\n",
        "print(Q)    # w1w2w3w4b3b4b5b6\n",
        "\n",
        "print(Q.count('3')) # 2\n",
        "'''\n",
        "\n",
        "C = [''.join(i) for i in B]\n",
        "print(C)\n",
        "\n",
        "Total = []\n",
        "\n",
        "for i in C:\n",
        "    if i.count('3') == 2 or i.count('4') == 2:\n",
        "        Total.append(i)\n",
        "\n",
        "print(len(Total))\n",
        "\n",
        "cnt = []\n",
        "for i in Total:\n",
        "    if i.count('b') == 2:\n",
        "        cnt.append(i)\n",
        "\n",
        "print(len(cnt))\n",
        "from fractions import Fraction as F\n",
        "print(F(len(cnt), len(Total)))"
      ],
      "execution_count": 23,
      "outputs": [
        {
          "output_type": "stream",
          "text": [
            "['w1w2w3w4', 'w1w2w3b3', 'w1w2w3b4', 'w1w2w3b5', 'w1w2w3b6', 'w1w2w4b3', 'w1w2w4b4', 'w1w2w4b5', 'w1w2w4b6', 'w1w2b3b4', 'w1w2b3b5', 'w1w2b3b6', 'w1w2b4b5', 'w1w2b4b6', 'w1w2b5b6', 'w1w3w4b3', 'w1w3w4b4', 'w1w3w4b5', 'w1w3w4b6', 'w1w3b3b4', 'w1w3b3b5', 'w1w3b3b6', 'w1w3b4b5', 'w1w3b4b6', 'w1w3b5b6', 'w1w4b3b4', 'w1w4b3b5', 'w1w4b3b6', 'w1w4b4b5', 'w1w4b4b6', 'w1w4b5b6', 'w1b3b4b5', 'w1b3b4b6', 'w1b3b5b6', 'w1b4b5b6', 'w2w3w4b3', 'w2w3w4b4', 'w2w3w4b5', 'w2w3w4b6', 'w2w3b3b4', 'w2w3b3b5', 'w2w3b3b6', 'w2w3b4b5', 'w2w3b4b6', 'w2w3b5b6', 'w2w4b3b4', 'w2w4b3b5', 'w2w4b3b6', 'w2w4b4b5', 'w2w4b4b6', 'w2w4b5b6', 'w2b3b4b5', 'w2b3b4b6', 'w2b3b5b6', 'w2b4b5b6', 'w3w4b3b4', 'w3w4b3b5', 'w3w4b3b6', 'w3w4b4b5', 'w3w4b4b6', 'w3w4b5b6', 'w3b3b4b5', 'w3b3b4b6', 'w3b3b5b6', 'w3b4b5b6', 'w4b3b4b5', 'w4b3b4b6', 'w4b3b5b6', 'w4b4b5b6', 'b3b4b5b6']\n",
            "29\n",
            "17\n",
            "17/29\n"
          ],
          "name": "stdout"
        }
      ]
    }
  ]
}